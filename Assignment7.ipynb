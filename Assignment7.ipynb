{
 "cells": [
  {
   "cell_type": "code",
   "execution_count": null,
   "id": "1b9343a1-0fed-4a8a-b4a9-13575290c8df",
   "metadata": {},
   "outputs": [],
   "source": [
    "Q1. What is boosting in machine learning?"
   ]
  },
  {
   "cell_type": "code",
   "execution_count": null,
   "id": "5f7b3ff5-e147-4f75-9bd3-bc873cfd0025",
   "metadata": {},
   "outputs": [],
   "source": [
    "Ans = Boosting is a method used in machine learning to reduce errors in predictive data analysis.\n",
    "Data scientists train machine learning software, called machine learning models,\n",
    "on labeled data to make guesses about unlabeled data.\n",
    "A single machine learning model might make prediction errors depending on the accuracy of the training dataset."
   ]
  },
  {
   "cell_type": "code",
   "execution_count": null,
   "id": "cd46a78a-61cd-48b6-bed3-b57f260e2db7",
   "metadata": {},
   "outputs": [],
   "source": []
  },
  {
   "cell_type": "code",
   "execution_count": null,
   "id": "084f0955-1e9f-42ab-a8d0-03f84412fd2c",
   "metadata": {},
   "outputs": [],
   "source": [
    "Q2. What are the advantages and limitations of using boosting techniques?"
   ]
  },
  {
   "cell_type": "code",
   "execution_count": null,
   "id": "621769d7-8c4b-4162-b503-2c200c0ac513",
   "metadata": {},
   "outputs": [],
   "source": [
    "Ans = Boosting is a resilient method that curbs over-fitting easily. \n",
    "One disadvantage of boosting is that it is sensitive to outliers\n",
    "since every classifier is obliged to fix the errors in the predecessors. \n",
    "Thus, the method is too dependent on outliers."
   ]
  },
  {
   "cell_type": "code",
   "execution_count": null,
   "id": "c253a64a-2863-45d1-9e72-fd711ef36714",
   "metadata": {},
   "outputs": [],
   "source": []
  },
  {
   "cell_type": "code",
   "execution_count": null,
   "id": "13a2c231-a84d-4dd3-9dfe-3ef68bd01cbf",
   "metadata": {},
   "outputs": [],
   "source": [
    "Q3. Explain how boosting works."
   ]
  },
  {
   "cell_type": "code",
   "execution_count": null,
   "id": "9b31af70-210f-4258-bd6c-5a6242fe82b8",
   "metadata": {},
   "outputs": [],
   "source": [
    "Ans = Boosting creates an ensemble model by combining several weak decision trees sequentially. \n",
    "It assigns weights to the output of individual trees.\n",
    "Then it gives incorrect classifications from the first decision\n",
    "tree a higher weight and input to the next tree."
   ]
  },
  {
   "cell_type": "code",
   "execution_count": null,
   "id": "3eba79e7-f246-430b-8ea9-ef4aab49ac31",
   "metadata": {},
   "outputs": [],
   "source": []
  },
  {
   "cell_type": "code",
   "execution_count": null,
   "id": "f6fe7c86-0d3d-4787-8737-67016e300201",
   "metadata": {},
   "outputs": [],
   "source": [
    "Q4. What are the different types of boosting algorithms?"
   ]
  },
  {
   "cell_type": "code",
   "execution_count": null,
   "id": "5639e5fb-2b17-453a-9e2e-5aadc83402db",
   "metadata": {},
   "outputs": [],
   "source": [
    "Ans = There are three types of Algorithms available such as AdaBoost or \n",
    "Adaptive boosting Algorithm, Gradient, and XG Boosting algorithm."
   ]
  },
  {
   "cell_type": "code",
   "execution_count": null,
   "id": "b36e4c78-8bca-48b5-a9bb-74682989e3b0",
   "metadata": {},
   "outputs": [],
   "source": []
  },
  {
   "cell_type": "code",
   "execution_count": null,
   "id": "1100449c-7bb9-4abe-9c9c-0eabab9b7b36",
   "metadata": {},
   "outputs": [],
   "source": [
    "Q5. What are some common parameters in boosting algorithms?"
   ]
  },
  {
   "cell_type": "code",
   "execution_count": null,
   "id": "e3fac662-3e0b-4c45-bfce-2b40f78041a3",
   "metadata": {},
   "outputs": [],
   "source": [
    "Ans = n. trees – Number of trees \n",
    "interaction\n",
    "Shrinkage (Learning Rate) – It is considered as a learning rate.\n",
    "n. \n",
    "bag. \n",
    "train."
   ]
  },
  {
   "cell_type": "code",
   "execution_count": null,
   "id": "715621ee-4d9c-4823-889c-65f89ad5b4ca",
   "metadata": {},
   "outputs": [],
   "source": []
  },
  {
   "cell_type": "code",
   "execution_count": null,
   "id": "e3562ea8-9d1a-49da-b230-968cd0299d6b",
   "metadata": {},
   "outputs": [],
   "source": [
    "Q6. How do boosting algorithms combine weak learners to create a strong learner?"
   ]
  },
  {
   "cell_type": "code",
   "execution_count": null,
   "id": "b2d923ff-58cb-4689-a1f2-befa6a60b04e",
   "metadata": {},
   "outputs": [],
   "source": [
    "Ans = Boosting is an ensemble learning method that combines a set of weak learners into a\n",
    "strong learner to minimize training errors. \n",
    "In boosting, a random sample of data is selected,\n",
    "fitted with a model and then trained sequentially—that is, \n",
    "each model tries to compensate for the weaknesses of its predecessor."
   ]
  },
  {
   "cell_type": "code",
   "execution_count": null,
   "id": "ea754010-add9-45cd-a396-7e6ebdfb3883",
   "metadata": {},
   "outputs": [],
   "source": []
  },
  {
   "cell_type": "code",
   "execution_count": null,
   "id": "cfb2fd06-1e9e-46c9-844d-a626868a6c4f",
   "metadata": {},
   "outputs": [],
   "source": [
    "Q7. Explain the concept of AdaBoost algorithm and its working."
   ]
  },
  {
   "cell_type": "code",
   "execution_count": null,
   "id": "8e5fbc93-5132-446e-ad46-1fdf84257c10",
   "metadata": {},
   "outputs": [],
   "source": [
    "Ans = AdaBoost algorithm, short for Adaptive Boosting, \n",
    "is a Boosting technique used as an Ensemble Method in Machine Learning. \n",
    "It is called Adaptive Boosting as the weights are re-assigned to each instance, \n",
    "with higher weights assigned to incorrectly classified instances."
   ]
  },
  {
   "cell_type": "code",
   "execution_count": null,
   "id": "6190f77c-1bb8-4d43-9647-2f52e841a065",
   "metadata": {},
   "outputs": [],
   "source": []
  },
  {
   "cell_type": "code",
   "execution_count": null,
   "id": "47c27dc6-aed1-447d-8cde-f556cca4f089",
   "metadata": {},
   "outputs": [],
   "source": [
    "Q8. What is the loss function used in AdaBoost algorithm?"
   ]
  },
  {
   "cell_type": "code",
   "execution_count": null,
   "id": "4faa232e-24d3-41eb-bf55-694feddeaa61",
   "metadata": {},
   "outputs": [],
   "source": [
    "Ans = The error function that AdaBoost uses is an exponential loss function."
   ]
  },
  {
   "cell_type": "code",
   "execution_count": null,
   "id": "35e49316-7dcb-4730-aaaa-abd6d697e176",
   "metadata": {},
   "outputs": [],
   "source": []
  },
  {
   "cell_type": "code",
   "execution_count": null,
   "id": "de9b85bd-ba3b-43de-9d37-92794397b501",
   "metadata": {},
   "outputs": [],
   "source": [
    "Q9. How does the AdaBoost algorithm update the weights of misclassified samples?"
   ]
  },
  {
   "cell_type": "code",
   "execution_count": null,
   "id": "0f0d6294-0b45-4393-b5e3-ff08c2479343",
   "metadata": {},
   "outputs": [],
   "source": [
    "Ans = This is done by making misclassified cases to be updated with increased weights after an iteration.\n",
    "Increased weights would make our learning algorithm pay higher\n",
    "attention to these observations in the next iteration."
   ]
  },
  {
   "cell_type": "code",
   "execution_count": null,
   "id": "ddcddb07-28b0-49a5-8c69-2221f034c389",
   "metadata": {},
   "outputs": [],
   "source": []
  },
  {
   "cell_type": "code",
   "execution_count": null,
   "id": "1ca9beb9-4695-4a2c-b0a3-a951b6fdfd01",
   "metadata": {},
   "outputs": [],
   "source": [
    "Q10. What is the effect of increasing the number of estimators in AdaBoost algorithm?"
   ]
  },
  {
   "cell_type": "code",
   "execution_count": null,
   "id": "fd820a94-b6bf-447d-a166-231d5b2dd397",
   "metadata": {},
   "outputs": [],
   "source": [
    "Ans = "
   ]
  }
 ],
 "metadata": {
  "kernelspec": {
   "display_name": "Python 3 (ipykernel)",
   "language": "python",
   "name": "python3"
  },
  "language_info": {
   "codemirror_mode": {
    "name": "ipython",
    "version": 3
   },
   "file_extension": ".py",
   "mimetype": "text/x-python",
   "name": "python",
   "nbconvert_exporter": "python",
   "pygments_lexer": "ipython3",
   "version": "3.10.8"
  }
 },
 "nbformat": 4,
 "nbformat_minor": 5
}
